{
 "cells": [
  {
   "attachments": {},
   "cell_type": "markdown",
   "metadata": {},
   "source": [
    "Lab1: Write a python code that ask the user\n",
    "to enter his birth year and then print his\n",
    "age in years"
   ]
  },
  {
   "cell_type": "code",
   "execution_count": 3,
   "metadata": {},
   "outputs": [
    {
     "name": "stdout",
     "output_type": "stream",
     "text": [
      "you are 21 years old\n"
     ]
    }
   ],
   "source": [
    "birthYear = input(\"please enter your year of birth: \")\n",
    "birthYear = 2023 - int(birthYear)\n",
    "print(f\"you are {birthYear} years old\")"
   ]
  },
  {
   "attachments": {},
   "cell_type": "markdown",
   "metadata": {},
   "source": [
    "Lab2: Write a python code to find Sum and Average of N\n",
    "Natural Numbers"
   ]
  },
  {
   "cell_type": "code",
   "execution_count": 7,
   "metadata": {},
   "outputs": [
    {
     "name": "stdout",
     "output_type": "stream",
     "text": [
      "The sum of natural numbers from 1 to 5 is 15\n",
      "The average of natural numbers from 1 to 5 is 3.0\n"
     ]
    }
   ],
   "source": [
    "N = input(\"please enter a natural number: \")\n",
    "N = int(N)\n",
    "sum = 0\n",
    "for i in range(N+1):\n",
    "    sum+=i\n",
    "average = sum/N\n",
    "print(f\"The sum of natural numbers from 1 to {N} is {sum}\")\n",
    "print(f\"The average of natural numbers from 1 to {N} is {average}\")\n"
   ]
  },
  {
   "attachments": {},
   "cell_type": "markdown",
   "metadata": {},
   "source": [
    "lab3: Python Program to Check Even or Odd\n"
   ]
  },
  {
   "cell_type": "code",
   "execution_count": 10,
   "metadata": {},
   "outputs": [
    {
     "name": "stdout",
     "output_type": "stream",
     "text": [
      "this is an even number\n"
     ]
    }
   ],
   "source": [
    "num = input(\"please enter a natural number: \")\n",
    "num = int(num)\n",
    "if num %2 == 0:\n",
    "    print(\"this is an even number\")\n",
    "else:\n",
    "    print(\"this is an odd number\")\n"
   ]
  },
  {
   "attachments": {},
   "cell_type": "markdown",
   "metadata": {},
   "source": [
    "labs from 4 to 6 are add in the \"Lab\" folder"
   ]
  },
  {
   "attachments": {},
   "cell_type": "markdown",
   "metadata": {},
   "source": [
    "lab7: Implement a code that takes as an input ASCII code for\n",
    "some characters and combine them to form a string."
   ]
  },
  {
   "cell_type": "code",
   "execution_count": 15,
   "metadata": {},
   "outputs": [
    {
     "name": "stdout",
     "output_type": "stream",
     "text": [
      "PQR"
     ]
    },
    {
     "ename": "ValueError",
     "evalue": "invalid literal for int() with base 10: ''",
     "output_type": "error",
     "traceback": [
      "\u001b[0;31m---------------------------------------------------------------------------\u001b[0m",
      "\u001b[0;31mValueError\u001b[0m                                Traceback (most recent call last)",
      "Cell \u001b[0;32mIn[15], line 3\u001b[0m\n\u001b[1;32m      1\u001b[0m \u001b[39mwhile\u001b[39;00m \u001b[39mTrue\u001b[39;00m:\n\u001b[1;32m      2\u001b[0m     ASCIIchar \u001b[39m=\u001b[39m \u001b[39minput\u001b[39m(\u001b[39m\"\u001b[39m\u001b[39mplease enter an ASCII number: \u001b[39m\u001b[39m\"\u001b[39m)\n\u001b[0;32m----> 3\u001b[0m     ASCIIchar \u001b[39m=\u001b[39m \u001b[39mint\u001b[39;49m(ASCIIchar)\n\u001b[1;32m      4\u001b[0m     Char \u001b[39m=\u001b[39m \u001b[39mchr\u001b[39m(ASCIIchar)\n\u001b[1;32m      5\u001b[0m     \u001b[39mprint\u001b[39m(Char,end\u001b[39m=\u001b[39m \u001b[39m'\u001b[39m\u001b[39m'\u001b[39m)\n",
      "\u001b[0;31mValueError\u001b[0m: invalid literal for int() with base 10: ''"
     ]
    }
   ],
   "source": [
    "while True:\n",
    "    ASCIIchar = input(\"please enter an ASCII number: \")\n",
    "    ASCIIchar = int(ASCIIchar)\n",
    "    Char = chr(ASCIIchar)\n",
    "    print(Char,end = '')"
   ]
  }
 ],
 "metadata": {
  "kernelspec": {
   "display_name": "Python 3",
   "language": "python",
   "name": "python3"
  },
  "language_info": {
   "codemirror_mode": {
    "name": "ipython",
    "version": 3
   },
   "file_extension": ".py",
   "mimetype": "text/x-python",
   "name": "python",
   "nbconvert_exporter": "python",
   "pygments_lexer": "ipython3",
   "version": "3.10.6"
  },
  "orig_nbformat": 4,
  "vscode": {
   "interpreter": {
    "hash": "916dbcbb3f70747c44a77c7bcd40155683ae19c65e1c03b4aa3499c5328201f1"
   }
  }
 },
 "nbformat": 4,
 "nbformat_minor": 2
}
