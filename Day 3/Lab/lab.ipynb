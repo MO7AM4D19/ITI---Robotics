{
 "cells": [
  {
   "attachments": {},
   "cell_type": "markdown",
   "metadata": {},
   "source": [
    "# Lab1\n",
    "Write a program to display the last digit of a number"
   ]
  },
  {
   "cell_type": "code",
   "execution_count": 1,
   "metadata": {},
   "outputs": [
    {
     "name": "stdout",
     "output_type": "stream",
     "text": [
      "2\n"
     ]
    }
   ],
   "source": [
    "num = input(\"please enter a number\")\n",
    "print(num[-1])"
   ]
  },
  {
   "attachments": {},
   "cell_type": "markdown",
   "metadata": {},
   "source": [
    "# Lab2\n",
    "Write a program to check whether the last digit of a number( entered by user ) is\n",
    "divisible by 3 or not"
   ]
  },
  {
   "cell_type": "code",
   "execution_count": 3,
   "metadata": {},
   "outputs": [
    {
     "name": "stdout",
     "output_type": "stream",
     "text": [
      "8 is not devisable by 3\n"
     ]
    }
   ],
   "source": [
    "num = input(\"please enter a number\")\n",
    "num = int(num[-1])\n",
    "if num%3 == 0:\n",
    "    print(f\"{num} is devisable by 3\")\n",
    "else:\n",
    "    print(f\"{num} is not devisable by 3\")"
   ]
  },
  {
   "attachments": {},
   "cell_type": "markdown",
   "metadata": {},
   "source": [
    "# Lab3\n",
    "Write a program to accept a number from 1 to 7 and display the name of the day like 1 for Sunday\n",
    ", 2 for Monday and so on"
   ]
  },
  {
   "cell_type": "code",
   "execution_count": 14,
   "metadata": {},
   "outputs": [
    {
     "name": "stdout",
     "output_type": "stream",
     "text": [
      "Friday\n"
     ]
    }
   ],
   "source": [
    "days = {'1': 'Sunday', '2':'Monday','3': 'Tuesday','4': 'Wednesday','5': 'Thursday','6':'Friday','7': 'Satrday'}\n",
    "userInput = input(\"please enter a number: \")\n",
    "print(days[userInput])"
   ]
  },
  {
   "attachments": {},
   "cell_type": "markdown",
   "metadata": {},
   "source": [
    "# Lab4\n",
    "Write a program to check a character is vowel or not"
   ]
  },
  {
   "cell_type": "code",
   "execution_count": 16,
   "metadata": {},
   "outputs": [
    {
     "name": "stdout",
     "output_type": "stream",
     "text": [
      "e is not a vowel char\n"
     ]
    }
   ],
   "source": [
    "vowel = {'a','e','u','o','i'}\n",
    "user = input(\"please enter a char: \")\n",
    "if user == vowel:\n",
    "    print(f\"{user} is a vowel char\")\n",
    "else:\n",
    "    print(f\"{user} is not a vowel char\")"
   ]
  },
  {
   "attachments": {},
   "cell_type": "markdown",
   "metadata": {},
   "source": [
    "# Lab5\n",
    "Accept the marked price from the user and calculate the Net amount as(Marked Price –\n",
    "Discount) to pay according to following criteria"
   ]
  },
  {
   "cell_type": "code",
   "execution_count": 21,
   "metadata": {},
   "outputs": [
    {
     "name": "stdout",
     "output_type": "stream",
     "text": [
      "price after discount is 5400.0\n"
     ]
    }
   ],
   "source": [
    "price = int(input(\"please enter the price: \"))\n",
    "if price > 10000:\n",
    "    netPrice = price - (price * 0.2)\n",
    "elif price > 7000 and price <= 10000:\n",
    "    netPrice = price - (price * 0.15)\n",
    "elif price <=7000:\n",
    "    netPrice = price - (price * 0.1)\n",
    "print(f'price after discount is {netPrice}')"
   ]
  },
  {
   "attachments": {},
   "cell_type": "markdown",
   "metadata": {},
   "source": [
    "# Lab6\n",
    "Use a loop to display elements from a given list that are present at odd index position"
   ]
  },
  {
   "cell_type": "code",
   "execution_count": 23,
   "metadata": {},
   "outputs": [
    {
     "name": "stdout",
     "output_type": "stream",
     "text": [
      "[20, 40, 60, 80, 100]\n"
     ]
    }
   ],
   "source": [
    "lst = [10, 20, 30, 40, 50, 60, 70, 80, 90, 100]\n",
    "print(lst[1::2])"
   ]
  },
  {
   "attachments": {},
   "cell_type": "markdown",
   "metadata": {},
   "source": [
    "# Lab7\n",
    "Write program to print the following pattern using loop."
   ]
  },
  {
   "cell_type": "code",
   "execution_count": 28,
   "metadata": {},
   "outputs": [
    {
     "name": "stdout",
     "output_type": "stream",
     "text": [
      "\n",
      "\n",
      "\n",
      "\n",
      "1\n",
      "\n",
      "12\n",
      "\n",
      "123\n",
      "\n",
      "1234"
     ]
    }
   ],
   "source": [
    "for i in range(5):\n",
    "    print('\\n')\n",
    "    for j in range(i):\n",
    "        print(j+1,end = '')\n",
    "    "
   ]
  },
  {
   "attachments": {},
   "cell_type": "markdown",
   "metadata": {},
   "source": [
    "# Lab8\n",
    "Write a program that keep on accepting number from the user until user enters Zero. Display the\n",
    "sum and average of all the numbers"
   ]
  },
  {
   "cell_type": "code",
   "execution_count": 30,
   "metadata": {},
   "outputs": [
    {
     "name": "stdout",
     "output_type": "stream",
     "text": [
      "sum of the numbers is 6 and the average is 2.0\n"
     ]
    }
   ],
   "source": [
    "num = int(input(\"please enter a number: \"))\n",
    "sum = 0\n",
    "iterator = 0\n",
    "while num != 0:\n",
    "    sum+=num\n",
    "    iterator+=1\n",
    "    num = int(input(\"please enter a number: \"))\n",
    "average = sum / iterator\n",
    "print(f'sum of the numbers is {sum} and the average is {average}')\n",
    "\n"
   ]
  },
  {
   "attachments": {},
   "cell_type": "markdown",
   "metadata": {},
   "source": [
    "# Lab9\n",
    "Generate a Python list of all the even numbers between 4 to 30"
   ]
  },
  {
   "cell_type": "code",
   "execution_count": 36,
   "metadata": {},
   "outputs": [
    {
     "name": "stdout",
     "output_type": "stream",
     "text": [
      "[6, 8, 10, 12, 14, 16, 18, 20, 22, 24, 26, 28]\n"
     ]
    }
   ],
   "source": [
    "lst = []\n",
    "idx = 0\n",
    "for i in range(30):\n",
    "    if i>4 and i%2 ==0:\n",
    "        j = [i]\n",
    "        lst += j\n",
    "        idx+=1\n",
    "print(lst)\n"
   ]
  },
  {
   "attachments": {},
   "cell_type": "markdown",
   "metadata": {},
   "source": [
    "# Lab10\n",
    "Make Method to Return the Maximum and Minimum item from the given list."
   ]
  },
  {
   "cell_type": "code",
   "execution_count": 40,
   "metadata": {},
   "outputs": [
    {
     "data": {
      "text/plain": [
       "(300, 10)"
      ]
     },
     "execution_count": 40,
     "metadata": {},
     "output_type": "execute_result"
    }
   ],
   "source": [
    "def getMax(Copy_lst):\n",
    "    Max = Copy_lst[0]\n",
    "    Min = Copy_lst[0]\n",
    "    for i in Copy_lst:\n",
    "        if i > Max:\n",
    "            Max = i\n",
    "        elif i < Min:\n",
    "            Min = i\n",
    "    return Max,Min\n",
    "\n",
    "lst=[100,30,22,40,60,20,10,300]\n",
    "getMax(lst)"
   ]
  }
 ],
 "metadata": {
  "kernelspec": {
   "display_name": "Python 3",
   "language": "python",
   "name": "python3"
  },
  "language_info": {
   "codemirror_mode": {
    "name": "ipython",
    "version": 3
   },
   "file_extension": ".py",
   "mimetype": "text/x-python",
   "name": "python",
   "nbconvert_exporter": "python",
   "pygments_lexer": "ipython3",
   "version": "3.10.6"
  },
  "orig_nbformat": 4,
  "vscode": {
   "interpreter": {
    "hash": "916dbcbb3f70747c44a77c7bcd40155683ae19c65e1c03b4aa3499c5328201f1"
   }
  }
 },
 "nbformat": 4,
 "nbformat_minor": 2
}
