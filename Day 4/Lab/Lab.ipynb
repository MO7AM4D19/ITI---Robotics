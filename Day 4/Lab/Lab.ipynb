{
 "cells": [
  {
   "attachments": {},
   "cell_type": "markdown",
   "metadata": {},
   "source": [
    "# Lab1,3\n",
    "1- Create a Vehicle class with name, max_speed and\n",
    "mileage instance attributes.\n",
    "3- Add a function seating_capacity to the vehicle class\n",
    "that takes as an argument the capacity of the vehicle and\n",
    "returns the following formatted string \"The seating capacity\n",
    "of a {<vehicle_name>} is {capacity} passengers\""
   ]
  },
  {
   "cell_type": "code",
   "execution_count": 6,
   "metadata": {},
   "outputs": [],
   "source": [
    "class Vehicle:\n",
    "    def __init__(self):\n",
    "        self.name = ''\n",
    "        self.max_speed = ''\n",
    "        self.mileage = ''\n",
    "    def seating_capacity(self,capacity):\n",
    "        print(f'The seating capacity of a {self.name} is {capacity} passengers')"
   ]
  },
  {
   "attachments": {},
   "cell_type": "markdown",
   "metadata": {},
   "source": [
    "# Lab2,4,5,6\n",
    "2- Create a child class Bus that will inherit all of the\n",
    "attributes and methods of the Vehicle class.\n",
    "4- override the function seating_capacity in the Bus class\n",
    "to give the capacity argument a default value of 50.\n",
    "5- Add an instance variable to the Bus class called\n",
    "capacity and give it a default value of 50\n",
    "6- Create a function fare() in the Bus class that\n",
    "calculates the renting fare of the bus per day according to\n",
    "the following equation. Fare = capacity *100"
   ]
  },
  {
   "cell_type": "code",
   "execution_count": 7,
   "metadata": {},
   "outputs": [],
   "source": [
    "class Bus(Vehicle):\n",
    "    def __init__(self):\n",
    "        super().__init__()\n",
    "        self.capacity = 50\n",
    "    def seating_capacity(self):\n",
    "        print(f'The seating capacity of a {self.name} is 50 passengers')\n",
    "    def fare(self):\n",
    "        Fare = self.capacity * 100"
   ]
  }
 ],
 "metadata": {
  "kernelspec": {
   "display_name": "Python 3",
   "language": "python",
   "name": "python3"
  },
  "language_info": {
   "codemirror_mode": {
    "name": "ipython",
    "version": 3
   },
   "file_extension": ".py",
   "mimetype": "text/x-python",
   "name": "python",
   "nbconvert_exporter": "python",
   "pygments_lexer": "ipython3",
   "version": "3.10.6"
  },
  "orig_nbformat": 4,
  "vscode": {
   "interpreter": {
    "hash": "916dbcbb3f70747c44a77c7bcd40155683ae19c65e1c03b4aa3499c5328201f1"
   }
  }
 },
 "nbformat": 4,
 "nbformat_minor": 2
}
